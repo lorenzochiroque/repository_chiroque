{
 "cells": [
  {
   "cell_type": "markdown",
   "id": "2bbd0e14",
   "metadata": {},
   "source": [
    "1. Escriba una función que transforme la temperatura de grados celsius a grados fahrenheit. La fórmula es:    \n",
    "$F = 1.8*C + 32$"
   ]
  },
  {
   "cell_type": "code",
   "execution_count": 24,
   "id": "5019051a",
   "metadata": {},
   "outputs": [],
   "source": [
    "\n",
    "\n",
    "def celsius_a_fahrenheit(temp_c):\n",
    "    '''\n",
    "    transforma temperatura de celsius a fahrenheit.\n",
    "    Input: \n",
    "        temp_c:número float\n",
    "    Ouput: \n",
    "        retorna: número float\n",
    "    '''\n",
    "    \n",
    "    temp_f = 1.8*temp_c + 32\n",
    "    \n",
    "    return temp_f "
   ]
  },
  {
   "cell_type": "code",
   "execution_count": 26,
   "id": "6885bafa",
   "metadata": {},
   "outputs": [
    {
     "data": {
      "text/plain": [
       "86.0"
      ]
     },
     "execution_count": 26,
     "metadata": {},
     "output_type": "execute_result"
    }
   ],
   "source": [
    "celsius_a_fahrenheit(30)"
   ]
  },
  {
   "cell_type": "code",
   "execution_count": 21,
   "id": "1e8a1629",
   "metadata": {},
   "outputs": [],
   "source": [
    "### Ejemplo del punto 4\n",
    "z_var = 5\n",
    "\n",
    "def eleva_potencia_b(a,b):\n",
    "    '''\n",
    "    Eleva número \"a\" a la \"b\" potencia.\n",
    "    Insumo (input): \n",
    "        a: número\n",
    "        b: número\n",
    "    Producto (output):\n",
    "        resultado: un número\n",
    "    '''\n",
    "    c = 10 + z_var\n",
    "    resultado = a**b + c\n",
    "    return resultado"
   ]
  },
  {
   "cell_type": "code",
   "execution_count": 22,
   "id": "3b191206",
   "metadata": {},
   "outputs": [
    {
     "data": {
      "text/plain": [
       "16"
      ]
     },
     "execution_count": 22,
     "metadata": {},
     "output_type": "execute_result"
    }
   ],
   "source": [
    "eleva_potencia_b(1,2)\n"
   ]
  },
  {
   "cell_type": "markdown",
   "id": "d58c86d3",
   "metadata": {},
   "source": [
    "2. Adapte el juego de dados de la clase de control flow para que pueda aceptar cuantas simulaciones se requiera.El input será un integer del número de simulaciones que queremos. El output será un float con la probabilidad de obtener 7 sobre la probabilidad de obtener 11.\n",
    "\n",
    "Abajo el código. \n"
   ]
  },
  {
   "cell_type": "code",
   "execution_count": null,
   "id": "d10dafbb",
   "metadata": {},
   "outputs": [],
   "source": [
    "sims = 100\n",
    "\n",
    "es_7 = 0\n",
    "es_11 = 0\n",
    "\n",
    "for i in range(sims):\n",
    "    suma_dados = random.randint(1,6) + random.randint(1,6)\n",
    "    if suma_dados == 7:\n",
    "        es_7 +=1\n",
    "    elif suma_dados == 11:\n",
    "        es_11 += 1\n",
    "        "
   ]
  },
  {
   "cell_type": "code",
   "execution_count": 27,
   "id": "2d9ffe95",
   "metadata": {},
   "outputs": [
    {
     "name": "stdout",
     "output_type": "stream",
     "text": [
      "16\n",
      "2\n"
     ]
    }
   ],
   "source": [
    " print(50 // 3) #floor\n",
    "print(50 % 3) #módulo"
   ]
  },
  {
   "cell_type": "markdown",
   "id": "d2c648b2",
   "metadata": {},
   "source": [
    "Escriba una función que dé el resultado de una división de dos números, sin embargo, el resultado debe ser un número mixto.\n",
    "Los números mixtos son una representación que tiene una parte entera y una parte menor a la unidad. Por ejemplo,  50/7  es representado de la siguiente manera:  717 \n",
    "\n",
    "Otro ejemplo:  23/4  sería  534 \n",
    "\n",
    "La función toma 2 argumentos: primero, el número a dividir, y segundo, el divisor.\n",
    "\n",
    "La función retorna una lista con 3 elementos: el número entero, el numerador de la fracción y el denominador de la fracción.\n",
    "\n",
    "Por ejemplo, numero_mixto(23,4) da como resultado [5, 3, 4].\n",
    "\n",
    "numero_mixto(24,4) da como resultado [6, 0, 4].\n",
    "\n",
    "Pista: floor y módulo"
   ]
  },
  {
   "cell_type": "code",
   "execution_count": 38,
   "id": "5edd0735",
   "metadata": {},
   "outputs": [],
   "source": [
    "def numero_mixto(num, den):\n",
    "    '''\n",
    "    Convierte división en número mixto\n",
    "    Input: \n",
    "        num: número entero\n",
    "        den: número entero\n",
    "    Ouput: \n",
    "        retorna: lista con 3 números\n",
    "    '''\n",
    "    Emtero=num//den\n",
    "    fracción=(num%den)\n",
    "    \n",
    "    lst_result= [Emtero, fracción, den]\n",
    "    \n",
    "\n",
    "    return lst_result"
   ]
  },
  {
   "cell_type": "code",
   "execution_count": 39,
   "id": "c8b3c5c1",
   "metadata": {},
   "outputs": [
    {
     "data": {
      "text/plain": [
       "[3, 1, 3]"
      ]
     },
     "execution_count": 39,
     "metadata": {},
     "output_type": "execute_result"
    }
   ],
   "source": [
    "numero_mixto(10,3)"
   ]
  },
  {
   "cell_type": "code",
   "execution_count": null,
   "id": "ec7ac15e",
   "metadata": {},
   "outputs": [],
   "source": []
  }
 ],
 "metadata": {
  "kernelspec": {
   "display_name": "Python 3",
   "language": "python",
   "name": "python3"
  },
  "language_info": {
   "codemirror_mode": {
    "name": "ipython",
    "version": 3
   },
   "file_extension": ".py",
   "mimetype": "text/x-python",
   "name": "python",
   "nbconvert_exporter": "python",
   "pygments_lexer": "ipython3",
   "version": "3.8.5"
  }
 },
 "nbformat": 4,
 "nbformat_minor": 5
}
