{
 "cells": [
  {
   "cell_type": "code",
   "execution_count": 46,
   "id": "410bc34c",
   "metadata": {},
   "outputs": [
    {
     "name": "stdout",
     "output_type": "stream",
     "text": [
      "The autoreload extension is already loaded. To reload it, use:\n",
      "  %reload_ext autoreload\n"
     ]
    }
   ],
   "source": [
    "%load_ext autoreload\n",
    "%autoreload 4"
   ]
  },
  {
   "cell_type": "code",
   "execution_count": 47,
   "id": "3b0e19b9",
   "metadata": {},
   "outputs": [
    {
     "ename": "ModuleNotFoundError",
     "evalue": "No module named 'ejemplo33_'",
     "output_type": "error",
     "traceback": [
      "\u001b[1;31m---------------------------------------------------------------------------\u001b[0m",
      "\u001b[1;31mModuleNotFoundError\u001b[0m                       Traceback (most recent call last)",
      "\u001b[1;32m<ipython-input-47-5ad5c3bdc0ac>\u001b[0m in \u001b[0;36m<module>\u001b[1;34m\u001b[0m\n\u001b[1;32m----> 1\u001b[1;33m \u001b[1;32mimport\u001b[0m \u001b[0mejemplo33_\u001b[0m \u001b[1;32mas\u001b[0m \u001b[0me33\u001b[0m\u001b[1;33m\u001b[0m\u001b[1;33m\u001b[0m\u001b[0m\n\u001b[0m",
      "\u001b[1;31mModuleNotFoundError\u001b[0m: No module named 'ejemplo33_'"
     ]
    }
   ],
   "source": [
    "import ejemplo33_ as e33"
   ]
  },
  {
   "cell_type": "code",
   "execution_count": 50,
   "id": "9ca99e5a",
   "metadata": {},
   "outputs": [
    {
     "data": {
      "text/plain": [
       "1"
      ]
     },
     "execution_count": 50,
     "metadata": {},
     "output_type": "execute_result"
    }
   ],
   "source": [
    "17%4"
   ]
  },
  {
   "cell_type": "code",
   "execution_count": 51,
   "id": "ebcb0f0c",
   "metadata": {},
   "outputs": [
    {
     "data": {
      "text/plain": [
       "4"
      ]
     },
     "execution_count": 51,
     "metadata": {},
     "output_type": "execute_result"
    }
   ],
   "source": [
    "17//4"
   ]
  },
  {
   "cell_type": "code",
   "execution_count": 52,
   "id": "532b1da2",
   "metadata": {},
   "outputs": [],
   "source": [
    "def numero_mixto(num, den):\n",
    "    '''\n",
    "    Convierte división en número mixto\n",
    "    Input: \n",
    "        num: número entero\n",
    "        den: número entero\n",
    "    Ouput: \n",
    "        retorna: lista con 3 números\n",
    "    '''\n",
    "    Emtero=num//den\n",
    "    fracción=(num%den)\n",
    "    \n",
    "    lst_result= [Emtero, fracción, den]\n",
    "    \n",
    "\n",
    "    return lst_result"
   ]
  },
  {
   "cell_type": "code",
   "execution_count": 54,
   "id": "57458c8f",
   "metadata": {},
   "outputs": [
    {
     "name": "stdout",
     "output_type": "stream",
     "text": [
      "[4, 1, 4]\n"
     ]
    }
   ],
   "source": [
    "print(numero_mixto(17,4))"
   ]
  },
  {
   "cell_type": "code",
   "execution_count": null,
   "id": "7b536c7e",
   "metadata": {},
   "outputs": [],
   "source": []
  },
  {
   "cell_type": "code",
   "execution_count": 62,
   "id": "9c04c137",
   "metadata": {},
   "outputs": [
    {
     "name": "stdout",
     "output_type": "stream",
     "text": [
      "21\n"
     ]
    }
   ],
   "source": [
    "lista_nums = [1,2,3,4,5,6]\n",
    "print(sum(lista_nums))\n"
   ]
  },
  {
   "cell_type": "code",
   "execution_count": 69,
   "id": "8bbf6b1c",
   "metadata": {},
   "outputs": [
    {
     "name": "stdout",
     "output_type": "stream",
     "text": [
      "Monto faltante para 100: 10\n"
     ]
    }
   ],
   "source": [
    "lista_nums = [1,2,3,4,5,6,11,12,15,31]\n",
    "\n",
    "W = sum(lista_nums)\n",
    "\n",
    "assert W >= 0\n",
    "\n",
    "if  W<= 100:\n",
    "    x= 100 - W\n",
    "    print(\"Monto faltante para 100:\", x)\n",
    "    \n",
    "elif W>100:\n",
    "    print(W)"
   ]
  },
  {
   "cell_type": "code",
   "execution_count": null,
   "id": "36b66f24",
   "metadata": {},
   "outputs": [],
   "source": [
    "def suma_lista(lista_nums):\n",
    "    '''\n",
    "    Suma una lista de numeros y retorna un resultado condicional:\n",
    "\n",
    "    Input: \n",
    "        lista_numeros: lista de números\n",
    "    Ouput: \n",
    "        - Si es menor a 100: nada, solo un print\n",
    "        - Si es mayor a 100: un número\n",
    "    '''\n",
    "\n",
    "    lista_nums = [1,2,3,4,5,6,7,8,9,10]\n",
    "\n",
    "    W = sum(lista_nums)\n",
    "\n",
    "    assert W >= 0\n",
    "\n",
    "    if  W<= 100:\n",
    "        x= 100 - W\n",
    "        print(\"Monto faltante para 100:\", x)\n",
    "    \n",
    "    elif W>100:\n",
    "        print(W)\n",
    "    \n",
    "    \n",
    "    return result"
   ]
  }
 ],
 "metadata": {
  "kernelspec": {
   "display_name": "Python 3",
   "language": "python",
   "name": "python3"
  },
  "language_info": {
   "codemirror_mode": {
    "name": "ipython",
    "version": 3
   },
   "file_extension": ".py",
   "mimetype": "text/x-python",
   "name": "python",
   "nbconvert_exporter": "python",
   "pygments_lexer": "ipython3",
   "version": "3.8.5"
  }
 },
 "nbformat": 4,
 "nbformat_minor": 5
}
