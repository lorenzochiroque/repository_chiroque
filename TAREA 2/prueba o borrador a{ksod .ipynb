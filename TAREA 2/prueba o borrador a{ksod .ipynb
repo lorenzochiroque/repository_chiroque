{
 "cells": [
  {
   "cell_type": "code",
   "execution_count": 70,
   "id": "c0354f2b",
   "metadata": {},
   "outputs": [
    {
     "name": "stdout",
     "output_type": "stream",
     "text": [
      "The autoreload extension is already loaded. To reload it, use:\n",
      "  %reload_ext autoreload\n"
     ]
    }
   ],
   "source": [
    "%load_ext autoreload\n",
    "%autoreload 4"
   ]
  },
  {
   "cell_type": "code",
   "execution_count": 71,
   "id": "500ace3b",
   "metadata": {},
   "outputs": [],
   "source": [
    "import ejemplo6 as e6"
   ]
  },
  {
   "cell_type": "code",
   "execution_count": 50,
   "id": "501166a9",
   "metadata": {},
   "outputs": [
    {
     "data": {
      "text/plain": [
       "1"
      ]
     },
     "execution_count": 50,
     "metadata": {},
     "output_type": "execute_result"
    }
   ],
   "source": [
    "bye\n"
   ]
  },
  {
   "cell_type": "code",
   "execution_count": 51,
   "id": "963ecc30",
   "metadata": {},
   "outputs": [
    {
     "data": {
      "text/plain": [
       "4"
      ]
     },
     "execution_count": 51,
     "metadata": {},
     "output_type": "execute_result"
    }
   ],
   "source": [
    "17//4"
   ]
  },
  {
   "cell_type": "code",
   "execution_count": 52,
   "id": "e109e69a",
   "metadata": {},
   "outputs": [],
   "source": [
    "def numero_mixto(num, den):\n",
    "    '''\n",
    "    Convierte división en número mixto\n",
    "    Input: \n",
    "        num: número entero\n",
    "        den: número entero\n",
    "    Ouput: \n",
    "        retorna: lista con 3 números\n",
    "    '''\n",
    "    Emtero=num//den\n",
    "    fracción=(num%den)\n",
    "    \n",
    "    lst_result= [Emtero, fracción, den]\n",
    "    \n",
    "\n",
    "    return lst_result"
   ]
  },
  {
   "cell_type": "code",
   "execution_count": 54,
   "id": "65761f0f",
   "metadata": {},
   "outputs": [
    {
     "name": "stdout",
     "output_type": "stream",
     "text": [
      "[4, 1, 4]\n"
     ]
    }
   ],
   "source": [
    "print(numero_mixto(17,4))"
   ]
  },
  {
   "cell_type": "code",
   "execution_count": null,
   "id": "a46f244c",
   "metadata": {},
   "outputs": [],
   "source": []
  },
  {
   "cell_type": "code",
   "execution_count": 62,
   "id": "40cba6d7",
   "metadata": {},
   "outputs": [
    {
     "name": "stdout",
     "output_type": "stream",
     "text": [
      "21\n"
     ]
    }
   ],
   "source": [
    "lista_nums = [1,2,3,4,5,6]\n",
    "print(sum(lista_nums))\n"
   ]
  },
  {
   "cell_type": "code",
   "execution_count": 69,
   "id": "668b9689",
   "metadata": {},
   "outputs": [
    {
     "name": "stdout",
     "output_type": "stream",
     "text": [
      "Monto faltante para 100: 10\n"
     ]
    }
   ],
   "source": [
    "lista_nums = [1,2,3,4,5,6,11,12,15,31]\n",
    "\n",
    "W = sum(lista_nums)\n",
    "\n",
    "assert W >= 0\n",
    "\n",
    "if  W<= 100:\n",
    "    x= 100 - W\n",
    "    print(\"Monto faltante para 100:\", x)\n",
    "    \n",
    "elif W>100:\n",
    "    print(W)"
   ]
  },
  {
   "cell_type": "code",
   "execution_count": 76,
   "id": "3e951d22",
   "metadata": {},
   "outputs": [],
   "source": [
    "def suma_lista(lista_numeros):\n",
    "    '''\n",
    "    Suma una lista de numeros y retorna un resultado condicional:\n",
    "\n",
    "    Input: \n",
    "        lista_numeros: lista de números\n",
    "    Ouput: \n",
    "        - Si es menor a 100: nada, solo un print\n",
    "        - Si es mayor a 100: un número\n",
    "    '''\n",
    "\n",
    "    W = sum(lista_numeros)\n",
    "\n",
    "    assert W >= 0\n",
    "\n",
    "    if  W<= 100:\n",
    "        x= 100 - W\n",
    "        print(\"Monto faltante para 100:\", x)\n",
    "    \n",
    "    elif W>100:\n",
    "        print(W)\n",
    "    \n",
    "    \n",
    "    return W"
   ]
  },
  {
   "cell_type": "code",
   "execution_count": 77,
   "id": "29010617",
   "metadata": {},
   "outputs": [
    {
     "name": "stdout",
     "output_type": "stream",
     "text": [
      "Monto faltante para 100: 90\n"
     ]
    },
    {
     "data": {
      "text/plain": [
       "10"
      ]
     },
     "execution_count": 77,
     "metadata": {},
     "output_type": "execute_result"
    }
   ],
   "source": [
    "suma_lista([1,2,3,4])"
   ]
  },
  {
   "cell_type": "code",
   "execution_count": null,
   "id": "fcf75620",
   "metadata": {},
   "outputs": [],
   "source": []
  }
 ],
 "metadata": {
  "kernelspec": {
   "display_name": "Python 3",
   "language": "python",
   "name": "python3"
  },
  "language_info": {
   "codemirror_mode": {
    "name": "ipython",
    "version": 3
   },
   "file_extension": ".py",
   "mimetype": "text/x-python",
   "name": "python",
   "nbconvert_exporter": "python",
   "pygments_lexer": "ipython3",
   "version": "3.8.5"
  }
 },
 "nbformat": 4,
 "nbformat_minor": 5
}
