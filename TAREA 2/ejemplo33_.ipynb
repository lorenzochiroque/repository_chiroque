{
 "cells": [
  {
   "cell_type": "code",
   "execution_count": 2,
   "id": "fef687f1",
   "metadata": {},
   "outputs": [],
   "source": [
    "def celsius_a_fahrenheit(temp_c): #donde \"temp_c\" temperatura en grados celcius y \"temp_f\", en grados fahrenheit\n",
    "    '''\n",
    "    transforma temperatura de celsius a fahrenheit.\n",
    "    Input: \n",
    "        temp_c:número float\n",
    "    Ouput: \n",
    "        retorna: número float\n",
    "    '''\n",
    "    \n",
    "    temp_f = 1.8*temp_c + 32\n",
    "    \n",
    "    return temp_f "
   ]
  },
  {
   "cell_type": "code",
   "execution_count": null,
   "id": "3ef07988",
   "metadata": {},
   "outputs": [],
   "source": []
  }
 ],
 "metadata": {
  "kernelspec": {
   "display_name": "Python 3",
   "language": "python",
   "name": "python3"
  },
  "language_info": {
   "codemirror_mode": {
    "name": "ipython",
    "version": 3
   },
   "file_extension": ".py",
   "mimetype": "text/x-python",
   "name": "python",
   "nbconvert_exporter": "python",
   "pygments_lexer": "ipython3",
   "version": "3.8.5"
  }
 },
 "nbformat": 4,
 "nbformat_minor": 5
}
