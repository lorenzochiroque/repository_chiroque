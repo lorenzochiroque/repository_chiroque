{
 "cells": [
  {
   "cell_type": "markdown",
   "id": "4e1daa7f",
   "metadata": {},
   "source": [
    "1. Escriba una función que transforme la temperatura de grados celsius a grados fahrenheit. La fórmula es:    \n",
    "$F = 1.8*C + 32$"
   ]
  },
  {
   "cell_type": "code",
   "execution_count": 24,
   "id": "201c440b",
   "metadata": {},
   "outputs": [],
   "source": [
    "\n",
    "\n",
    "def celsius_a_fahrenheit(temp_c):\n",
    "    '''\n",
    "    transforma temperatura de celsius a fahrenheit.\n",
    "    Input: \n",
    "        temp_c:número float\n",
    "    Ouput: \n",
    "        retorna: número float\n",
    "    '''\n",
    "    \n",
    "    temp_f = 1.8*temp_c + 32\n",
    "    \n",
    "    return temp_f "
   ]
  },
  {
   "cell_type": "code",
   "execution_count": 26,
   "id": "a502a679",
   "metadata": {},
   "outputs": [
    {
     "data": {
      "text/plain": [
       "86.0"
      ]
     },
     "execution_count": 26,
     "metadata": {},
     "output_type": "execute_result"
    }
   ],
   "source": [
    "celsius_a_fahrenheit(30)"
   ]
  },
  {
   "cell_type": "code",
   "execution_count": 21,
   "id": "ae728656",
   "metadata": {},
   "outputs": [],
   "source": [
    "### Ejemplo del punto 4\n",
    "z_var = 5\n",
    "\n",
    "def eleva_potencia_b(a,b):\n",
    "    '''\n",
    "    Eleva número \"a\" a la \"b\" potencia.\n",
    "    Insumo (input): \n",
    "        a: número\n",
    "        b: número\n",
    "    Producto (output):\n",
    "        resultado: un número\n",
    "    '''\n",
    "    c = 10 + z_var\n",
    "    resultado = a**b + c\n",
    "    return resultado"
   ]
  },
  {
   "cell_type": "code",
   "execution_count": 22,
   "id": "9841ba16",
   "metadata": {},
   "outputs": [
    {
     "data": {
      "text/plain": [
       "16"
      ]
     },
     "execution_count": 22,
     "metadata": {},
     "output_type": "execute_result"
    }
   ],
   "source": [
    "eleva_potencia_b(1,2)\n"
   ]
  },
  {
   "cell_type": "markdown",
   "id": "c39524f3",
   "metadata": {},
   "source": [
    "2. Adapte el juego de dados de la clase de control flow para que pueda aceptar cuantas simulaciones se requiera.El input será un integer del número de simulaciones que queremos. El output será un float con la probabilidad de obtener 7 sobre la probabilidad de obtener 11.\n",
    "\n",
    "Abajo el código. \n"
   ]
  },
  {
   "cell_type": "code",
   "execution_count": null,
   "id": "61e87fc7",
   "metadata": {},
   "outputs": [],
   "source": [
    "sims = 100\n",
    "\n",
    "es_7 = 0\n",
    "es_11 = 0\n",
    "\n",
    "for i in range(sims):\n",
    "    suma_dados = random.randint(1,6) + random.randint(1,6)\n",
    "    if suma_dados == 7:\n",
    "        es_7 +=1\n",
    "    elif suma_dados == 11:\n",
    "        es_11 += 1\n",
    "        "
   ]
  },
  {
   "cell_type": "code",
   "execution_count": 27,
   "id": "c83ff97b",
   "metadata": {},
   "outputs": [
    {
     "name": "stdout",
     "output_type": "stream",
     "text": [
      "16\n",
      "2\n"
     ]
    }
   ],
   "source": [
    " print(50 // 3) #floor\n",
    "print(50 % 3) #módulo"
   ]
  },
  {
   "cell_type": "code",
   "execution_count": 34,
   "id": "2ffc67bd",
   "metadata": {},
   "outputs": [],
   "source": [
    "def numero_mixto(num, den):\n",
    "    '''\n",
    "    Convierte división en número mixto\n",
    "    Input: \n",
    "        num: número entero\n",
    "        den: número entero\n",
    "    Ouput: \n",
    "        retorna: lista con 3 números\n",
    "    '''\n",
    "    Emtero=num//den\n",
    "    fracción=(num%den)/den\n",
    "    \n",
    "    lst_result= Emtero+fracción\n",
    "    \n",
    "\n",
    "    return lst_result"
   ]
  },
  {
   "cell_type": "code",
   "execution_count": 35,
   "id": "0635c7e8",
   "metadata": {},
   "outputs": [
    {
     "data": {
      "text/plain": [
       "3.3333333333333335"
      ]
     },
     "execution_count": 35,
     "metadata": {},
     "output_type": "execute_result"
    }
   ],
   "source": [
    "numero_mixto(10,3)"
   ]
  },
  {
   "cell_type": "code",
   "execution_count": null,
   "id": "7edb174d",
   "metadata": {},
   "outputs": [],
   "source": []
  }
 ],
 "metadata": {
  "kernelspec": {
   "display_name": "Python 3",
   "language": "python",
   "name": "python3"
  },
  "language_info": {
   "codemirror_mode": {
    "name": "ipython",
    "version": 3
   },
   "file_extension": ".py",
   "mimetype": "text/x-python",
   "name": "python",
   "nbconvert_exporter": "python",
   "pygments_lexer": "ipython3",
   "version": "3.8.5"
  }
 },
 "nbformat": 4,
 "nbformat_minor": 5
}
