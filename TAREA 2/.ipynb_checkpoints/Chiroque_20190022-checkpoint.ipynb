{
 "cells": [
  {
   "cell_type": "markdown",
   "metadata": {},
   "source": [
    "# Tarea 2\n",
    "\n",
    "Hora de entrega: Próximo viernes a las 8pm\n",
    "\n",
    "Nombrar al archivo de la siguiente manera: Apellido_código.  \n",
    "Ejemplo:  Solis_20060983\n",
    "\n",
    "Entregar la tarea en esta plantilla, no usar una adicional a esta. \n",
    "\n",
    "\n",
    "* Escriba un docstring para las funciones que aún no lo tienen"
   ]
  },
  {
   "cell_type": "markdown",
   "metadata": {},
   "source": [
    "1. Escriba una función que transforme la temperatura de grados celsius a grados fahrenheit. La fórmula es:    \n",
    "$F = 1.8*C + 32$"
   ]
  },
  {
   "cell_type": "code",
   "execution_count": 1,
   "metadata": {},
   "outputs": [],
   "source": [
    "def celsius_a_fahrenheit(temp_c): #donde \"temp_c\" temperatura en grados celcius y \"temp_f\", en grados fahrenheit\n",
    "    '''\n",
    "    transforma temperatura de celsius a fahrenheit.\n",
    "    Input: \n",
    "        temp_c:número float\n",
    "    Ouput: \n",
    "        retorna: número float\n",
    "    '''\n",
    "    \n",
    "    temp_f = 1.8*temp_c + 32\n",
    "    \n",
    "    return temp_f "
   ]
  },
  {
   "cell_type": "markdown",
   "metadata": {},
   "source": [
    "2. Adapte el juego de dados de la clase de control flow para que pueda aceptar cuantas simulaciones se requiera.El input será un integer del número de simulaciones que queremos. El output será un float con la probabilidad de obtener 7 sobre la probabilidad de obtener 11.\n",
    "\n",
    "Abajo el código. "
   ]
  },
  {
   "cell_type": "code",
   "execution_count": null,
   "metadata": {},
   "outputs": [],
   "source": [
    "sims = 1000\n",
    "\n",
    "es_7 = 0\n",
    "es_11 = 0\n",
    "\n",
    "def celsius_a_fahrenheit(temp_c): #donde \"temp_c\" temperatura en grados celcius y \"temp_f\", en grados fahrenheit\n",
    "    '''\n",
    "    transforma temperatura de celsius a fahrenheit.\n",
    "    Input: \n",
    "        temp_c:número float\n",
    "    Ouput: \n",
    "        retorna: número float\n",
    "    '''\n",
    "    return aaaa\n",
    "\n",
    "\n",
    "for i in range(sims):\n",
    "    suma_dados = random.randint(1,6) + random.randint(1,6)\n",
    "    if suma_dados == 7:\n",
    "        es_7 +=1\n",
    "    elif suma_dados == 11:\n",
    "        es_11 += 1\n",
    "        "
   ]
  },
  {
   "cell_type": "markdown",
   "metadata": {},
   "source": [
    "3. Cree un script .py en la misma carpeta en la que guardó la tarea y copie alguna de las funciones que definió anteriormente en esta tarea. Importe la función (módulo) creada de las 3 formas que vimos en clase (con el script como un alias, con * y especificando el nombre de la función  que quiere importar). \n",
    "\n",
    "No es necesario adjuntar el archivo .py, con ver que se pudo ejecutar el bloque de JN es suficiente. (Es decir, debe aparecer un número al costado izquierdo de la celda ejecutada"
   ]
  },
  {
   "cell_type": "code",
   "execution_count": 89,
   "metadata": {},
   "outputs": [
    {
     "name": "stdout",
     "output_type": "stream",
     "text": [
      "The autoreload extension is already loaded. To reload it, use:\n",
      "  %reload_ext autoreload\n"
     ]
    }
   ],
   "source": [
    "%load_ext autoreload\n",
    "%autoreload 2"
   ]
  },
  {
   "cell_type": "code",
   "execution_count": 92,
   "metadata": {},
   "outputs": [
    {
     "ename": "ModuleNotFoundError",
     "evalue": "No module named 'Ejemploso44'",
     "output_type": "error",
     "traceback": [
      "\u001b[1;31m---------------------------------------------------------------------------\u001b[0m",
      "\u001b[1;31mModuleNotFoundError\u001b[0m                       Traceback (most recent call last)",
      "\u001b[1;32m<ipython-input-92-b2929d02fddb>\u001b[0m in \u001b[0;36m<module>\u001b[1;34m\u001b[0m\n\u001b[1;32m----> 1\u001b[1;33m \u001b[1;32mfrom\u001b[0m \u001b[0mEjemploso44\u001b[0m \u001b[1;32mimport\u001b[0m \u001b[1;33m*\u001b[0m\u001b[1;33m\u001b[0m\u001b[1;33m\u001b[0m\u001b[0m\n\u001b[0m",
      "\u001b[1;31mModuleNotFoundError\u001b[0m: No module named 'Ejemploso44'"
     ]
    }
   ],
   "source": [
    "from Ejemploso44 import *"
   ]
  },
  {
   "cell_type": "markdown",
   "metadata": {},
   "source": [
    "4. Escriba una función que dé el resultado de una división de dos números, sin embargo, el resultado debe ser un número mixto. \n",
    "\n",
    "Los números mixtos son una representación que tiene una parte entera y una parte menor a la unidad. Por ejemplo, $50 / 7$ es representado de la siguiente manera:\n",
    "$\n",
    "  7\\frac{1}{7}\n",
    "$  \n",
    "\n",
    "Otro ejemplo: $23 / 4$ sería \n",
    "$\n",
    "  5\\frac{3}{4}\n",
    "$  \n",
    "\n",
    "La función toma 2 argumentos: primero, el número a dividir, y segundo, el divisor. \n",
    "\n",
    "La función retorna una lista con 3 elementos: el número entero, el numerador de la fracción y el denominador de la fracción. \n",
    "\n",
    "Por ejemplo, ``` numero_mixto(23,4)``` da como resultado ```[5, 3, 4] ```. \n",
    "\n",
    "``` numero_mixto(24,4)``` da como resultado ```[6, 0, 4] ```. \n",
    "\n",
    "Pista: floor y módulo"
   ]
  },
  {
   "cell_type": "code",
   "execution_count": 11,
   "metadata": {},
   "outputs": [],
   "source": [
    "def numero_mixto(num, den):\n",
    "    '''\n",
    "    Convierte división en número mixto\n",
    "    Input: \n",
    "        num: número entero\n",
    "        den: número entero\n",
    "    Ouput: \n",
    "        retorna: lista con 3 números\n",
    "    '''\n",
    "    Emtero=num//den\n",
    "    fracción=(num%den)\n",
    "    \n",
    "    lst_result= [Emtero, fracción, den]\n",
    "    \n",
    "\n",
    "    return lst_result"
   ]
  },
  {
   "cell_type": "markdown",
   "metadata": {},
   "source": [
    "5. Escribe una función que tome como input una lista de números y los sume. En caso la suma total sea menor a 100, imprime un mensaje diciendo \"Monto faltante para 100:\" x . x es igual a la resta de 100 respecto a la suma total. \n",
    "En caso la suma total sea mayor a 100, el valor retornado será dicha suma total. \n"
   ]
  },
  {
   "cell_type": "code",
   "execution_count": 87,
   "metadata": {},
   "outputs": [],
   "source": [
    "def suma_lista(lista_nums):\n",
    "    '''\n",
    "    Suma una lista de numeros y retorna un resultado condicional:\n",
    "\n",
    "    Input: \n",
    "        lista_numeros: lista de números\n",
    "    Ouput: \n",
    "        - Si es menor a 100: nada, solo un print\n",
    "        - Si es mayor a 100: un número\n",
    "    '''\n",
    "\n",
    "    W = sum(lista_nums)\n",
    "\n",
    "    assert W >= 0\n",
    "\n",
    "    if  W<= 100:\n",
    "        x= 100 - W\n",
    "        print(\"Monto faltante para 100:\", x)\n",
    "    \n",
    "    elif W>100:\n",
    "        print(W)\n",
    "\n",
    "    return W"
   ]
  },
  {
   "cell_type": "code",
   "execution_count": 88,
   "metadata": {},
   "outputs": [
    {
     "name": "stdout",
     "output_type": "stream",
     "text": [
      "Monto faltante para 100: 63\n"
     ]
    },
    {
     "data": {
      "text/plain": [
       "37"
      ]
     },
     "execution_count": 88,
     "metadata": {},
     "output_type": "execute_result"
    }
   ],
   "source": [
    "suma_lista([1,24,3,4,5])"
   ]
  },
  {
   "cell_type": "markdown",
   "metadata": {},
   "source": [
    "5. Escriba una función que convierta la hora de Lima (GMT -5)  en 4 posibles horas: \n",
    "- Hora Vanuatu (GMT +11)  \n",
    "- Hora Dominica (GMT - 4)\n",
    "- Hora Nigeria (GMT +1)\n",
    "- Hora China  (GMT +8)\n",
    "\n",
    "Asumamos que solo  usaremos horas enteras. \n",
    "La función debe tener 2 parámetros: \n",
    "- la hora de Lima que queremos convertir(entero). \n",
    "- la ciudad (string) a la que queremos convertir la hora.\n",
    "\n",
    "La función debe retornar la hora (de 0 a 24 horas) como un número (puede ser un float que termine en .0). Ojo que hay que manejar el caso cuando la suma da más de 24 horas (Pista: %). \n",
    "Ojo 2: Hay casos en los que la hora puede resultar negativa (Pista: Verlo como una resta)"
   ]
  },
  {
   "cell_type": "code",
   "execution_count": 35,
   "metadata": {},
   "outputs": [],
   "source": [
    "dic_horas = {'Vanuatu':16, 'Dominica':1, 'Nigeria':6, 'China':13 }"
   ]
  },
  {
   "cell_type": "code",
   "execution_count": 49,
   "metadata": {},
   "outputs": [],
   "source": [
    "def cambiar_hora(hora_lima,país):\n",
    "    hora_final= hora_lima + dic_horas[país]\n",
    "    if  hora_final < 0:\n",
    "        x= -hora_final+12\n",
    "        print(\"El día anterior a las\", x, \"horas\")\n",
    "    \n",
    "    elif hora_final <= 24:\n",
    "        y=hora_final\n",
    "        print(\"Son las:\", y)\n",
    "        \n",
    "    elif hora_final > 24:\n",
    "        Z=hora_final-24\n",
    "        print(\"Son la o las:\", Z, \"de mañana :D\")\n",
    "        \n",
    "    return hora_final"
   ]
  },
  {
   "cell_type": "code",
   "execution_count": 51,
   "metadata": {},
   "outputs": [
    {
     "name": "stdout",
     "output_type": "stream",
     "text": [
      "Son las: 1\n"
     ]
    },
    {
     "data": {
      "text/plain": [
       "1"
      ]
     },
     "execution_count": 51,
     "metadata": {},
     "output_type": "execute_result"
    }
   ],
   "source": [
    "cambiar_hora(0, 'Dominica')"
   ]
  },
  {
   "cell_type": "markdown",
   "metadata": {},
   "source": [
    "6. Escriba una función sin parámetros y que no retorne nada, pero que haga print de un mensaje que comunique cuál es tu comida favorita o el nombre de tu mascota. "
   ]
  },
  {
   "cell_type": "code",
   "execution_count": 20,
   "metadata": {},
   "outputs": [],
   "source": [
    "def comida_fav():\n",
    "    print(\"Mi comida fav es el lomo saltado :D\")"
   ]
  },
  {
   "cell_type": "code",
   "execution_count": 21,
   "metadata": {},
   "outputs": [
    {
     "name": "stdout",
     "output_type": "stream",
     "text": [
      "Mi comida fav es el lomo saltado :D\n"
     ]
    }
   ],
   "source": [
    "comida_fav()"
   ]
  }
 ],
 "metadata": {
  "kernelspec": {
   "display_name": "Python 3",
   "language": "python",
   "name": "python3"
  },
  "language_info": {
   "codemirror_mode": {
    "name": "ipython",
    "version": 3
   },
   "file_extension": ".py",
   "mimetype": "text/x-python",
   "name": "python",
   "nbconvert_exporter": "python",
   "pygments_lexer": "ipython3",
   "version": "3.8.5"
  }
 },
 "nbformat": 4,
 "nbformat_minor": 4
}
