{
 "cells": [
  {
   "cell_type": "code",
   "execution_count": 6,
   "id": "9c90b9f9",
   "metadata": {},
   "outputs": [
    {
     "name": "stdout",
     "output_type": "stream",
     "text": [
      "numpy: 1.19.2\n",
      "pandas: 1.2.3\n"
     ]
    }
   ],
   "source": [
    "# Python version\n",
    "\n",
    "# numpy\n",
    "import numpy\n",
    "print('numpy: {}'.format(numpy.__version__))\n",
    "\n",
    "# pandas\n",
    "import pandas\n",
    "print('pandas: {}'.format(pandas.__version__))"
   ]
  },
  {
   "cell_type": "code",
   "execution_count": 7,
   "id": "50035d5a",
   "metadata": {},
   "outputs": [
    {
     "name": "stdout",
     "output_type": "stream",
     "text": [
      "hola, ya terminé el EC2. Saludos.Lorenzo\n"
     ]
    }
   ],
   "source": [
    "nombre = \"Lorenzo\"\n",
    "print(\"hola, ya terminé el EC2. Saludos.\" + nombre)"
   ]
  },
  {
   "cell_type": "code",
   "execution_count": null,
   "id": "fd8b9681",
   "metadata": {},
   "outputs": [],
   "source": []
  }
 ],
 "metadata": {
  "kernelspec": {
   "display_name": "Python 3",
   "language": "python",
   "name": "python3"
  },
  "language_info": {
   "codemirror_mode": {
    "name": "ipython",
    "version": 3
   },
   "file_extension": ".py",
   "mimetype": "text/x-python",
   "name": "python",
   "nbconvert_exporter": "python",
   "pygments_lexer": "ipython3",
   "version": "3.8.5"
  }
 },
 "nbformat": 4,
 "nbformat_minor": 5
}
