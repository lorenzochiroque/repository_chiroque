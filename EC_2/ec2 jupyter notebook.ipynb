{
 "cells": [
  {
   "cell_type": "code",
   "execution_count": 6,
   "id": "9c90b9f9",
   "metadata": {},
   "outputs": [
    {
     "name": "stdout",
     "output_type": "stream",
     "text": [
      "numpy: 1.19.2\n",
      "pandas: 1.2.3\n"
     ]
    }
   ],
   "source": [
    "# Python version\n",
    "\n",
    "# numpy\n",
    "import numpy\n",
    "print('numpy: {}'.format(numpy.__version__))\n",
    "\n",
    "# pandas\n",
    "import pandas\n",
    "print('pandas: {}'.format(pandas.__version__))"
   ]
  },
  {
   "cell_type": "code",
   "execution_count": 7,
   "id": "50035d5a",
   "metadata": {},
   "outputs": [
    {
     "name": "stdout",
     "output_type": "stream",
     "text": [
      "hola, ya terminé el EC2. Saludos.Lorenzo\n"
     ]
    }
   ],
   "source": [
    "nombre = \"Lorenzo\"\n",
    "print(\"hola, ya terminé el EC2. Saludos.\" + nombre)"
   ]
  },
  {
   "cell_type": "code",
   "execution_count": 1,
   "id": "fd8b9681",
   "metadata": {},
   "outputs": [
    {
     "name": "stdout",
     "output_type": "stream",
     "text": [
      "6543210\n"
     ]
    }
   ],
   "source": [
    "print(6_543_210)\n"
   ]
  },
  {
   "cell_type": "code",
   "execution_count": 11,
   "id": "50b60113",
   "metadata": {},
   "outputs": [
    {
     "name": "stdout",
     "output_type": "stream",
     "text": [
      "97.5\n"
     ]
    }
   ],
   "source": [
    "Salario_congresal = 15_600\n",
    "\n",
    "Horas_a_la_semana_de_trabajo = 40\n",
    "\n",
    "Semanas_mensuales_de_trabajo = 4\n",
    "\n",
    "\n",
    "operación = (Salario_congresal / Semanas_mensuales_de_trabajo / Horas_a_la_semana_de_trabajo)\n",
    "\n",
    "print(operación) "
   ]
  },
  {
   "cell_type": "code",
   "execution_count": 26,
   "id": "925af98e",
   "metadata": {},
   "outputs": [
    {
     "name": "stdout",
     "output_type": "stream",
     "text": [
      "18835.93897155773\n"
     ]
    }
   ],
   "source": [
    "Comunidad_familias = 5309\n",
    "\n",
    "Saldo_propuesto = 100_000_000\n",
    "\n",
    "Monto_correspondiente = Saldo_propuesto / Comunidad_familias\n",
    "\n",
    "Saldo_añadido = Monto_correspondiente%Comunidad_familias\n",
    "\n",
    "print(Monto_correspondiente)\n"
   ]
  },
  {
   "cell_type": "code",
   "execution_count": 29,
   "id": "73319cf9",
   "metadata": {},
   "outputs": [
    {
     "name": "stdout",
     "output_type": "stream",
     "text": [
      "4985\n"
     ]
    }
   ],
   "source": [
    "Comunidad_familias = 5309\n",
    "\n",
    "Saldo_propuesto = 100_000_000\n",
    "\n",
    "Saldo_añadido = Saldo_propuesto%Comunidad_familias\n",
    "\n",
    "print(Saldo_añadido)"
   ]
  },
  {
   "cell_type": "code",
   "execution_count": 28,
   "id": "23adcf94",
   "metadata": {},
   "outputs": [
    {
     "data": {
      "text/plain": [
       "2"
      ]
     },
     "execution_count": 28,
     "metadata": {},
     "output_type": "execute_result"
    }
   ],
   "source": [
    "20%6"
   ]
  },
  {
   "cell_type": "code",
   "execution_count": 30,
   "id": "3a233b3e",
   "metadata": {},
   "outputs": [
    {
     "data": {
      "text/plain": [
       "3.3333333333333335"
      ]
     },
     "execution_count": 30,
     "metadata": {},
     "output_type": "execute_result"
    }
   ],
   "source": [
    "20/6"
   ]
  },
  {
   "cell_type": "code",
   "execution_count": 38,
   "id": "77840fd2",
   "metadata": {},
   "outputs": [
    {
     "data": {
      "text/plain": [
       "True"
      ]
     },
     "execution_count": 38,
     "metadata": {},
     "output_type": "execute_result"
    }
   ],
   "source": [
    "Sueldo_Cristina = 931\n",
    "Sueldo_Congresal = 15_600\n",
    "\n",
    "Sueldo_Cristina < Sueldo_Congresal"
   ]
  },
  {
   "cell_type": "code",
   "execution_count": 43,
   "id": "c782c907",
   "metadata": {},
   "outputs": [
    {
     "name": "stdout",
     "output_type": "stream",
     "text": [
      "Sueldo_Cristina_al_mes<Sueldo_Congresal_al_mesaaaa\n",
      "hola, ya terminé el EC2. Saludos.Lorenzo\n"
     ]
    }
   ],
   "source": [
    "Sueldo_Cristina_al_mes = 931\n",
    "Sueldo_Congresal_al_mes = 15_600\n",
    "\n",
    "COMP = \"Sueldo_Cristina_al_mes<Sueldo_Congresal_al_mes\"\n",
    "RESP = \"aaaa\"\n",
    "print(COMP + RESP)\n",
    "\n",
    "nombre = \"Lorenzo\"\n",
    "print(\"hola, ya terminé el EC2. Saludos.\" + nombre)"
   ]
  },
  {
   "cell_type": "code",
   "execution_count": 44,
   "id": "46d1a2b4",
   "metadata": {},
   "outputs": [
    {
     "name": "stdout",
     "output_type": "stream",
     "text": [
      "5\n"
     ]
    }
   ],
   "source": [
    "cursos = [\"Historia\", \"Economia\", \"Antropologia\", \"RSP\", \"Derecho\"]\n",
    "\n",
    "print(len(cursos))"
   ]
  },
  {
   "cell_type": "code",
   "execution_count": null,
   "id": "5ea4052c",
   "metadata": {},
   "outputs": [],
   "source": [
    "cursos = [\"Historia\", \"Economia\", \"Antropologia\", \"RSP\", \"Derecho\"]\n",
    "mas_cursos = ['Argumentación']\n",
    "\n",
    "print(mas_cursos+cursos)\n",
    "print(cursos.extend('Teatro'))\n",
    "cursos\n",
    "print(cursos.append('Filosofía'))\n",
    "cursos"
   ]
  },
  {
   "cell_type": "code",
   "execution_count": 9,
   "id": "276ca0cc",
   "metadata": {},
   "outputs": [
    {
     "name": "stdout",
     "output_type": "stream",
     "text": [
      "['Argumentación', 'Historia', 'Economia', 'Antropologia', 'RSP', 'Derecho', 'Poesía', 'Literatura']\n"
     ]
    }
   ],
   "source": [
    "cursos = [\"Historia\", \"Economia\", \"Antropologia\", \"RSP\", \"Derecho\"]\n",
    "mas_cursos = ['Argumentación']\n",
    "\n",
    "cursos.append(\"Poesía\")\n",
    "cursos\n",
    "\n",
    "mass_cursos = ['Literatura']\n",
    "cursos.extend(mass_cursos)\n",
    "\n",
    "print(mas_cursos+cursos)"
   ]
  },
  {
   "cell_type": "code",
   "execution_count": 76,
   "id": "31babf7c",
   "metadata": {},
   "outputs": [
    {
     "data": {
      "text/plain": [
       "['Historia', 'Economia', 'Antropologia', 'RSP', 'Derecho', 'Sociologia']"
      ]
     },
     "execution_count": 76,
     "metadata": {},
     "output_type": "execute_result"
    }
   ],
   "source": [
    "cursos = [\"Historia\", \"Economia\", \"Antropologia\", \"RSP\", \"Derecho\"]\n",
    "cursos.append(\"Sociologia\")\n",
    "cursos"
   ]
  },
  {
   "cell_type": "markdown",
   "id": "c4354aaa",
   "metadata": {},
   "source": [
    "\n",
    "\n",
    "\n",
    "\n",
    "Tenemos los siguientes números: 30, 24, 54.2, 15.8, 145, 90, 100.\n",
    "Crea una lista con ellos.\n",
    "Ordena la lista de menor a mayor.\n",
    "Cuenta cuántos números mayores a 30 hay.\n",
    "Saca el promedio de los números de la lista.\n",
    "(Realiza cada uno en bloques separados)."
   ]
  },
  {
   "cell_type": "code",
   "execution_count": 11,
   "id": "5cc3df8e",
   "metadata": {},
   "outputs": [],
   "source": [
    "nums = [30, 24, 54.2, 15.8, 145, 90, 100]"
   ]
  },
  {
   "cell_type": "code",
   "execution_count": 13,
   "id": "88ed9cf1",
   "metadata": {},
   "outputs": [
    {
     "data": {
      "text/plain": [
       "[15.8, 24, 30, 54.2, 90, 100, 145]"
      ]
     },
     "execution_count": 13,
     "metadata": {},
     "output_type": "execute_result"
    }
   ],
   "source": [
    "\n",
    "nums.sort()\n",
    "nums"
   ]
  },
  {
   "cell_type": "code",
   "execution_count": 25,
   "id": "e70a7c07",
   "metadata": {},
   "outputs": [
    {
     "ename": "SyntaxError",
     "evalue": "invalid syntax (<ipython-input-25-92c993eb1aaa>, line 1)",
     "output_type": "error",
     "traceback": [
      "\u001b[1;36m  File \u001b[1;32m\"<ipython-input-25-92c993eb1aaa>\"\u001b[1;36m, line \u001b[1;32m1\u001b[0m\n\u001b[1;33m    print(nums.count(30:145))\u001b[0m\n\u001b[1;37m                       ^\u001b[0m\n\u001b[1;31mSyntaxError\u001b[0m\u001b[1;31m:\u001b[0m invalid syntax\n"
     ]
    }
   ],
   "source": [
    "\n",
    "print(nums.count())"
   ]
  },
  {
   "cell_type": "code",
   "execution_count": 27,
   "id": "7ea64a32",
   "metadata": {},
   "outputs": [
    {
     "name": "stdout",
     "output_type": "stream",
     "text": [
      "65.57142857142857\n"
     ]
    }
   ],
   "source": [
    "suma = sum(nums)\n",
    "cantidad_nums = len(nums)\n",
    "\n",
    "promedio = suma / cantidad_nums\n",
    "\n",
    "print(promedio)"
   ]
  },
  {
   "cell_type": "code",
   "execution_count": 28,
   "id": "a6b4e232",
   "metadata": {},
   "outputs": [
    {
     "name": "stdout",
     "output_type": "stream",
     "text": [
      "hoy tengo 5, en 5 años tendré 10\n",
      "hoy tengo 13, en 5 años tendré 18\n",
      "hoy tengo 17, en 5 años tendré 22\n",
      "hoy tengo 33, en 5 años tendré 38\n",
      "hoy tengo 45, en 5 años tendré 50\n",
      "hoy tengo 60, en 5 años tendré 65\n"
     ]
    }
   ],
   "source": [
    "edades = [5, 13, 17, 33, 45, 60]\n",
    "\n",
    "for edad in edades:\n",
    "    edad_mayor = edad + 5\n",
    "    print(\"hoy tengo \" + str(edad) + \", en 5 años tendré \" + str(edad_mayor))"
   ]
  },
  {
   "cell_type": "code",
   "execution_count": 39,
   "id": "3f1e8702",
   "metadata": {},
   "outputs": [
    {
     "ename": "NameError",
     "evalue": "name 'new_nums' is not defined",
     "output_type": "error",
     "traceback": [
      "\u001b[1;31m---------------------------------------------------------------------------\u001b[0m",
      "\u001b[1;31mNameError\u001b[0m                                 Traceback (most recent call last)",
      "\u001b[1;32m<ipython-input-39-178d41092af2>\u001b[0m in \u001b[0;36m<module>\u001b[1;34m\u001b[0m\n\u001b[0;32m      4\u001b[0m \u001b[1;32mfor\u001b[0m \u001b[0mnum\u001b[0m \u001b[1;32min\u001b[0m \u001b[0mnums\u001b[0m\u001b[1;33m:\u001b[0m\u001b[1;33m\u001b[0m\u001b[1;33m\u001b[0m\u001b[0m\n\u001b[0;32m      5\u001b[0m     \u001b[1;32mif\u001b[0m \u001b[0mnum\u001b[0m \u001b[1;33m>\u001b[0m \u001b[1;36m30\u001b[0m\u001b[1;33m:\u001b[0m\u001b[1;33m\u001b[0m\u001b[1;33m\u001b[0m\u001b[0m\n\u001b[1;32m----> 6\u001b[1;33m         \u001b[0mprint\u001b[0m\u001b[1;33m(\u001b[0m\u001b[0mnew_nums\u001b[0m\u001b[1;33m)\u001b[0m\u001b[1;33m\u001b[0m\u001b[1;33m\u001b[0m\u001b[0m\n\u001b[0m",
      "\u001b[1;31mNameError\u001b[0m: name 'new_nums' is not defined"
     ]
    }
   ],
   "source": [
    "nums = [30, 24, 54.2, 15.8, 145, 90, 100]\n",
    "\n",
    "new_nums:[]\n",
    "for num in nums:\n",
    "    if num > 30:\n",
    "        print(new_nums)  "
   ]
  },
  {
   "cell_type": "code",
   "execution_count": 51,
   "id": "8751ece3",
   "metadata": {},
   "outputs": [
    {
     "ename": "NameError",
     "evalue": "name 'new_list' is not defined",
     "output_type": "error",
     "traceback": [
      "\u001b[1;31m---------------------------------------------------------------------------\u001b[0m",
      "\u001b[1;31mNameError\u001b[0m                                 Traceback (most recent call last)",
      "\u001b[1;32m<ipython-input-51-c96a0a1c5b64>\u001b[0m in \u001b[0;36m<module>\u001b[1;34m\u001b[0m\n\u001b[0;32m      6\u001b[0m     \u001b[1;32mif\u001b[0m \u001b[0mnum\u001b[0m \u001b[1;33m>\u001b[0m \u001b[1;36m30\u001b[0m\u001b[1;33m:\u001b[0m\u001b[1;33m\u001b[0m\u001b[1;33m\u001b[0m\u001b[0m\n\u001b[0;32m      7\u001b[0m         \u001b[0mnew_lst\u001b[0m\u001b[1;33m.\u001b[0m\u001b[0mappend\u001b[0m\u001b[1;33m(\u001b[0m\u001b[0mnum\u001b[0m\u001b[1;33m)\u001b[0m\u001b[1;33m\u001b[0m\u001b[1;33m\u001b[0m\u001b[0m\n\u001b[1;32m----> 8\u001b[1;33m         \u001b[0mprint\u001b[0m\u001b[1;33m(\u001b[0m\u001b[0mnew_list\u001b[0m\u001b[1;33m)\u001b[0m\u001b[1;33m\u001b[0m\u001b[1;33m\u001b[0m\u001b[0m\n\u001b[0m",
      "\u001b[1;31mNameError\u001b[0m: name 'new_list' is not defined"
     ]
    }
   ],
   "source": [
    "nums = [30, 24, 54.2, 15.8, 145, 90, 100]\n",
    "\n",
    "new_lst = []\n",
    "\n",
    "for num in nums:\n",
    "    if num > 30:\n",
    "        new_lst.append(num)\n",
    "        print(new_list)"
   ]
  },
  {
   "cell_type": "code",
   "execution_count": null,
   "id": "74d9f51c",
   "metadata": {},
   "outputs": [],
   "source": []
  }
 ],
 "metadata": {
  "kernelspec": {
   "display_name": "Python 3",
   "language": "python",
   "name": "python3"
  },
  "language_info": {
   "codemirror_mode": {
    "name": "ipython",
    "version": 3
   },
   "file_extension": ".py",
   "mimetype": "text/x-python",
   "name": "python",
   "nbconvert_exporter": "python",
   "pygments_lexer": "ipython3",
   "version": "3.8.5"
  }
 },
 "nbformat": 4,
 "nbformat_minor": 5
}
