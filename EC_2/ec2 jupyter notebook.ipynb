{
 "cells": [
  {
   "cell_type": "code",
   "execution_count": 6,
   "id": "9c90b9f9",
   "metadata": {},
   "outputs": [
    {
     "name": "stdout",
     "output_type": "stream",
     "text": [
      "numpy: 1.19.2\n",
      "pandas: 1.2.3\n"
     ]
    }
   ],
   "source": [
    "# Python version\n",
    "\n",
    "# numpy\n",
    "import numpy\n",
    "print('numpy: {}'.format(numpy.__version__))\n",
    "\n",
    "# pandas\n",
    "import pandas\n",
    "print('pandas: {}'.format(pandas.__version__))"
   ]
  },
  {
   "cell_type": "code",
   "execution_count": 7,
   "id": "50035d5a",
   "metadata": {},
   "outputs": [
    {
     "name": "stdout",
     "output_type": "stream",
     "text": [
      "hola, ya terminé el EC2. Saludos.Lorenzo\n"
     ]
    }
   ],
   "source": [
    "nombre = \"Lorenzo\"\n",
    "print(\"hola, ya terminé el EC2. Saludos.\" + nombre)"
   ]
  },
  {
   "cell_type": "code",
   "execution_count": 1,
   "id": "fd8b9681",
   "metadata": {},
   "outputs": [
    {
     "name": "stdout",
     "output_type": "stream",
     "text": [
      "6543210\n"
     ]
    }
   ],
   "source": [
    "print(6_543_210)\n"
   ]
  },
  {
   "cell_type": "code",
   "execution_count": 11,
   "id": "50b60113",
   "metadata": {},
   "outputs": [
    {
     "name": "stdout",
     "output_type": "stream",
     "text": [
      "97.5\n"
     ]
    }
   ],
   "source": [
    "Salario_congresal = 15_600\n",
    "\n",
    "Horas_a_la_semana_de_trabajo = 40\n",
    "\n",
    "Semanas_mensuales_de_trabajo = 4\n",
    "\n",
    "\n",
    "operación = (Salario_congresal / Semanas_mensuales_de_trabajo / Horas_a_la_semana_de_trabajo)\n",
    "\n",
    "print(operación) "
   ]
  },
  {
   "cell_type": "code",
   "execution_count": 26,
   "id": "925af98e",
   "metadata": {},
   "outputs": [
    {
     "name": "stdout",
     "output_type": "stream",
     "text": [
      "18835.93897155773\n"
     ]
    }
   ],
   "source": [
    "Comunidad_familias = 5309\n",
    "\n",
    "Saldo_propuesto = 100_000_000\n",
    "\n",
    "Monto_correspondiente = Saldo_propuesto / Comunidad_familias\n",
    "\n",
    "Saldo_añadido = Monto_correspondiente%Comunidad_familias\n",
    "\n",
    "print(Monto_correspondiente)\n"
   ]
  },
  {
   "cell_type": "code",
   "execution_count": 29,
   "id": "73319cf9",
   "metadata": {},
   "outputs": [
    {
     "name": "stdout",
     "output_type": "stream",
     "text": [
      "4985\n"
     ]
    }
   ],
   "source": [
    "Comunidad_familias = 5309\n",
    "\n",
    "Saldo_propuesto = 100_000_000\n",
    "\n",
    "Saldo_añadido = Saldo_propuesto%Comunidad_familias\n",
    "\n",
    "print(Saldo_añadido)"
   ]
  },
  {
   "cell_type": "code",
   "execution_count": 28,
   "id": "23adcf94",
   "metadata": {},
   "outputs": [
    {
     "data": {
      "text/plain": [
       "2"
      ]
     },
     "execution_count": 28,
     "metadata": {},
     "output_type": "execute_result"
    }
   ],
   "source": [
    "20%6"
   ]
  },
  {
   "cell_type": "code",
   "execution_count": 30,
   "id": "3a233b3e",
   "metadata": {},
   "outputs": [
    {
     "data": {
      "text/plain": [
       "3.3333333333333335"
      ]
     },
     "execution_count": 30,
     "metadata": {},
     "output_type": "execute_result"
    }
   ],
   "source": [
    "20/6"
   ]
  },
  {
   "cell_type": "code",
   "execution_count": 38,
   "id": "77840fd2",
   "metadata": {},
   "outputs": [
    {
     "data": {
      "text/plain": [
       "True"
      ]
     },
     "execution_count": 38,
     "metadata": {},
     "output_type": "execute_result"
    }
   ],
   "source": [
    "Sueldo_Cristina = 931\n",
    "Sueldo_Congresal = 15_600\n",
    "\n",
    "Sueldo_Cristina < Sueldo_Congresal"
   ]
  },
  {
   "cell_type": "code",
   "execution_count": 43,
   "id": "c782c907",
   "metadata": {},
   "outputs": [
    {
     "name": "stdout",
     "output_type": "stream",
     "text": [
      "Sueldo_Cristina_al_mes<Sueldo_Congresal_al_mesaaaa\n",
      "hola, ya terminé el EC2. Saludos.Lorenzo\n"
     ]
    }
   ],
   "source": [
    "Sueldo_Cristina_al_mes = 931\n",
    "Sueldo_Congresal_al_mes = 15_600\n",
    "\n",
    "COMP = \"Sueldo_Cristina_al_mes<Sueldo_Congresal_al_mes\"\n",
    "RESP = \"aaaa\"\n",
    "print(COMP + RESP)\n",
    "\n",
    "nombre = \"Lorenzo\"\n",
    "print(\"hola, ya terminé el EC2. Saludos.\" + nombre)"
   ]
  },
  {
   "cell_type": "code",
   "execution_count": 44,
   "id": "46d1a2b4",
   "metadata": {},
   "outputs": [
    {
     "name": "stdout",
     "output_type": "stream",
     "text": [
      "5\n"
     ]
    }
   ],
   "source": [
    "cursos = [\"Historia\", \"Economia\", \"Antropologia\", \"RSP\", \"Derecho\"]\n",
    "\n",
    "print(len(cursos))"
   ]
  },
  {
   "cell_type": "code",
   "execution_count": 52,
   "id": "5ea4052c",
   "metadata": {},
   "outputs": [
    {
     "name": "stdout",
     "output_type": "stream",
     "text": [
      "['Argumentación', 'Historia', 'Economia', 'Antropologia', 'RSP', 'Derecho']\n",
      "None\n",
      "None\n"
     ]
    },
    {
     "data": {
      "text/plain": [
       "['Historia',\n",
       " 'Economia',\n",
       " 'Antropologia',\n",
       " 'RSP',\n",
       " 'Derecho',\n",
       " 'T',\n",
       " 'e',\n",
       " 'a',\n",
       " 't',\n",
       " 'r',\n",
       " 'o',\n",
       " 'Filosofía']"
      ]
     },
     "execution_count": 52,
     "metadata": {},
     "output_type": "execute_result"
    }
   ],
   "source": [
    "cursos = [\"Historia\", \"Economia\", \"Antropologia\", \"RSP\", \"Derecho\"]\n",
    "mas_cursos = ['Argumentación']\n",
    "\n",
    "print(mas_cursos+cursos)\n",
    "print(cursos.extend('Teatro'))\n",
    "cursos\n",
    "print(cursos.append('Filosofía'))\n",
    "cursos"
   ]
  },
  {
   "cell_type": "code",
   "execution_count": 83,
   "id": "276ca0cc",
   "metadata": {},
   "outputs": [
    {
     "name": "stdout",
     "output_type": "stream",
     "text": [
      "['Argumentación', 'Historia', 'Economia', 'Antropologia', 'RSP', 'Derecho', 'Poesía', 'Literatura']\n"
     ]
    }
   ],
   "source": [
    "cursos = [\"Historia\", \"Economia\", \"Antropologia\", \"RSP\", \"Derecho\"]\n",
    "mas_cursos = ['Argumentación']\n",
    "\n",
    "cursos.append(\"Poesía\")\n",
    "cursos\n",
    "\n",
    "mass_cursos = ['Literatura']\n",
    "cursos_copy.extend(mass_cursos)\n",
    "\n",
    "print(mas_cursos+cursos+mass_cursos)"
   ]
  },
  {
   "cell_type": "code",
   "execution_count": 76,
   "id": "31babf7c",
   "metadata": {},
   "outputs": [
    {
     "data": {
      "text/plain": [
       "['Historia', 'Economia', 'Antropologia', 'RSP', 'Derecho', 'Sociologia']"
      ]
     },
     "execution_count": 76,
     "metadata": {},
     "output_type": "execute_result"
    }
   ],
   "source": [
    "cursos = [\"Historia\", \"Economia\", \"Antropologia\", \"RSP\", \"Derecho\"]\n",
    "cursos.append(\"Sociologia\")\n",
    "cursos"
   ]
  },
  {
   "cell_type": "code",
   "execution_count": null,
   "id": "604c05d3",
   "metadata": {},
   "outputs": [],
   "source": []
  }
 ],
 "metadata": {
  "kernelspec": {
   "display_name": "Python 3",
   "language": "python",
   "name": "python3"
  },
  "language_info": {
   "codemirror_mode": {
    "name": "ipython",
    "version": 3
   },
   "file_extension": ".py",
   "mimetype": "text/x-python",
   "name": "python",
   "nbconvert_exporter": "python",
   "pygments_lexer": "ipython3",
   "version": "3.8.5"
  }
 },
 "nbformat": 4,
 "nbformat_minor": 5
}
