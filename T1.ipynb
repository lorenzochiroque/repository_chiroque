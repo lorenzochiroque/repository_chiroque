{
 "cells": [
  {
   "cell_type": "markdown",
   "metadata": {},
   "source": [
    "# Tarea 1\n",
    "\n"
   ]
  },
  {
   "cell_type": "markdown",
   "metadata": {},
   "source": [
    "1. Comprueba que un subguión `_` para separar miles puede ser usado en vez de comas al escribir números grandes. El resultado aún es un número. Puedes escribir un millón, o mil millones, (o algún otro ejemplo)."
   ]
  },
  {
   "cell_type": "code",
   "execution_count": null,
   "metadata": {},
   "outputs": [],
   "source": []
  },
  {
   "cell_type": "markdown",
   "metadata": {},
   "source": [
    "2. Calcula cuántas horas trabajan en total los 130 congresistas de nuestro país en un año. Asume que trabajan 40 horas a la semana, por 48 semanas al año (considerando que tienen vacaciones y no trabajan sobretiempo). "
   ]
  },
  {
   "cell_type": "code",
   "execution_count": null,
   "metadata": {},
   "outputs": [],
   "source": []
  },
  {
   "cell_type": "markdown",
   "metadata": {},
   "source": [
    "3. Ahora calcula el salario de un congresista por hora. Los supuestos del anterior ejercicio se mantienen (Se puede pasar por alto las vacaciones). Cabe recordar que los congresistas ganan 15,600 soles mensuales.   \n",
    "- Crea una variable para el salario por hora de un congresista.   \n",
    "- Crea una variable para la suma de los salarios por hora de los 130 congresistas.\n"
   ]
  },
  {
   "cell_type": "code",
   "execution_count": null,
   "metadata": {},
   "outputs": [],
   "source": []
  },
  {
   "cell_type": "markdown",
   "metadata": {},
   "source": [
    "4. Benito se acaba de comprar una computadora Asus a 2,579 soles. Es es el precio desdpués del IGV, sin embargo, él quisiera saber cuántos soles está pagando de IGV. Calcule el monto (el IGV es 18% sobre el valor base). Cree una variable para el porcentaje de IGV, el precio del celular con impuesto, el monto del impuesto y el precio de la computadora sin impuesto."
   ]
  },
  {
   "cell_type": "code",
   "execution_count": null,
   "metadata": {},
   "outputs": [],
   "source": []
  },
  {
   "cell_type": "markdown",
   "metadata": {},
   "source": [
    "5.  Cristina percibe el sueldo mínimo (931 soles). Compruebe que el salario anual de Cristina es menor al salario anual de un congresista, usando operadores de comparación y una expresión que detalle el monto mensual y el número de meses trabajados de ambos."
   ]
  },
  {
   "cell_type": "code",
   "execution_count": null,
   "metadata": {},
   "outputs": [],
   "source": []
  },
  {
   "cell_type": "markdown",
   "metadata": {},
   "source": [
    "6. Una comunidad de 5309 familias tiene que ser compensada monetariamente por una compañía transnacional. El monto negociado es de 100 millones de soles, sin embargo, una cláusula del contrato dice que el monto de compensación tiene que ser un número entero. ¿Cuántos soles adicionales se le  tiene  que agregar al monto negociado para que las familias reciban una cantidad entera? (Pista: Acuérdate del  floor y el módulo)."
   ]
  },
  {
   "cell_type": "code",
   "execution_count": null,
   "metadata": {},
   "outputs": [],
   "source": []
  },
  {
   "cell_type": "markdown",
   "metadata": {},
   "source": [
    "7. Tenemos la siguiente lista de cursos: "
   ]
  },
  {
   "cell_type": "code",
   "execution_count": 1,
   "metadata": {},
   "outputs": [],
   "source": [
    "cursos = [\"Historia\", \"Economia\", \"Antropologia\", \"RSP\", \"Derecho\"]"
   ]
  },
  {
   "cell_type": "markdown",
   "metadata": {},
   "source": [
    "Realiza las siguientes operaciones en bloques diferentes: \n",
    "- Calcula cuántos elementos tiene la lista.\n"
   ]
  },
  {
   "cell_type": "code",
   "execution_count": null,
   "metadata": {},
   "outputs": [],
   "source": []
  },
  {
   "cell_type": "markdown",
   "metadata": {},
   "source": [
    "8.\n",
    "- Agrega tres cursos adicionales de 3 formas diferentes (uno por forma):\n",
    "   - Suma (+) una lista que contenga un curso adicional. \n",
    "   - Usa el append. \n",
    "   - Usa el extend. \n"
   ]
  },
  {
   "cell_type": "code",
   "execution_count": null,
   "metadata": {},
   "outputs": [],
   "source": []
  },
  {
   "cell_type": "markdown",
   "metadata": {},
   "source": [
    "9.\n",
    "- Usa la indexación para señalar a _RSP_.\n"
   ]
  },
  {
   "cell_type": "code",
   "execution_count": null,
   "metadata": {},
   "outputs": [],
   "source": []
  },
  {
   "cell_type": "markdown",
   "metadata": {},
   "source": [
    "10.\n",
    "- Remueve el curso que menos te guste de la lista.\n"
   ]
  },
  {
   "cell_type": "code",
   "execution_count": null,
   "metadata": {},
   "outputs": [],
   "source": []
  },
  {
   "cell_type": "markdown",
   "metadata": {},
   "source": [
    "11.\n",
    "  - Invierte la lista."
   ]
  },
  {
   "cell_type": "code",
   "execution_count": null,
   "metadata": {},
   "outputs": [],
   "source": []
  },
  {
   "cell_type": "markdown",
   "metadata": {},
   "source": [
    "12. Tenemos los siguientes números: 30, 24, 54.2, 15.8, 145, 90, 100.\n",
    " - Crea una lista con ellos. \n",
    " - Ordena la lista de menor a mayor.\n",
    " - Cuenta cuántos números mayores a 30 hay.\n",
    " - Saca el promedio de los números de la lista.  \n",
    "(Realiza cada uno en bloques separados)."
   ]
  },
  {
   "cell_type": "code",
   "execution_count": null,
   "metadata": {},
   "outputs": [],
   "source": []
  }
 ],
 "metadata": {
  "kernelspec": {
   "display_name": "Python 3",
   "language": "python",
   "name": "python3"
  },
  "language_info": {
   "codemirror_mode": {
    "name": "ipython",
    "version": 3
   },
   "file_extension": ".py",
   "mimetype": "text/x-python",
   "name": "python",
   "nbconvert_exporter": "python",
   "pygments_lexer": "ipython3",
   "version": "3.8.5"
  }
 },
 "nbformat": 4,
 "nbformat_minor": 4
}
