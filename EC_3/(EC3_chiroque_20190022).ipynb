{
 "cells": [
  {
   "cell_type": "markdown",
   "metadata": {},
   "source": [
    "# EC3"
   ]
  },
  {
   "cell_type": "markdown",
   "metadata": {},
   "source": [
    "Haz un for-loop que vaya del 1 al 20, pero que sólo tome los elementos impares. Imprime (print) cada uno de los elementos mientras vas iterando por ellos. Pista: Puedes usar rangos. "
   ]
  },
  {
   "cell_type": "code",
   "execution_count": 1,
   "metadata": {},
   "outputs": [
    {
     "name": "stdout",
     "output_type": "stream",
     "text": [
      "Número impar -> 1\n",
      "Número impar -> 3\n",
      "Número impar -> 5\n",
      "Número impar -> 7\n",
      "Número impar -> 9\n",
      "Número impar -> 11\n",
      "Número impar -> 13\n",
      "Número impar -> 15\n",
      "Número impar -> 17\n",
      "Número impar -> 19\n"
     ]
    }
   ],
   "source": [
    "nums = [1,2,3,4,5,6,7,8,9,10,11,12,13,14,15,16,17,18,19,20] #acá lo hice sin rangos\n",
    "\n",
    "\n",
    "for num in nums:\n",
    "    if num < 11:\n",
    "        nums_impares = num*2-1\n",
    "        print(\"Número impar ->\", str(nums_impares))"
   ]
  },
  {
   "cell_type": "code",
   "execution_count": 3,
   "metadata": {},
   "outputs": [
    {
     "name": "stdout",
     "output_type": "stream",
     "text": [
      "1\n",
      "3\n",
      "5\n",
      "7\n",
      "9\n",
      "11\n",
      "13\n",
      "15\n",
      "17\n",
      "19\n"
     ]
    }
   ],
   "source": [
    "elementos_impares=0 #este con rangos :D\n",
    "for e in range(1,20,2):\n",
    "    print (e)"
   ]
  },
  {
   "cell_type": "markdown",
   "metadata": {},
   "source": [
    "Modifica tu programa para que, a medida que vayas iterando por los elementos, vayas sumando estos en una variable llamada total, definida antes que el loop empiece. Utiliza un operador de asignación aumentada."
   ]
  },
  {
   "cell_type": "code",
   "execution_count": 5,
   "metadata": {},
   "outputs": [
    {
     "name": "stdout",
     "output_type": "stream",
     "text": [
      "1\n",
      "3\n",
      "5\n",
      "7\n",
      "9\n",
      "11\n",
      "13\n",
      "15\n",
      "17\n",
      "19\n",
      "Suma total :D -> 100\n"
     ]
    }
   ],
   "source": [
    "N = 20\n",
    "total = 0\n",
    "\n",
    "for n in range(N):\n",
    "    if (n % 2) == 1:\n",
    "        print(n)\n",
    "        total +=n\n",
    "print(\"Suma total :D ->\", str(total))"
   ]
  },
  {
   "cell_type": "code",
   "execution_count": null,
   "metadata": {},
   "outputs": [],
   "source": []
  }
 ],
 "metadata": {
  "kernelspec": {
   "display_name": "Python 3",
   "language": "python",
   "name": "python3"
  },
  "language_info": {
   "codemirror_mode": {
    "name": "ipython",
    "version": 3
   },
   "file_extension": ".py",
   "mimetype": "text/x-python",
   "name": "python",
   "nbconvert_exporter": "python",
   "pygments_lexer": "ipython3",
   "version": "3.8.5"
  }
 },
 "nbformat": 4,
 "nbformat_minor": 4
}
