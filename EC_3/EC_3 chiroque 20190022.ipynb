{
 "cells": [
  {
   "cell_type": "code",
   "execution_count": 1,
   "id": "fc5fae94",
   "metadata": {},
   "outputs": [
    {
     "ename": "SyntaxError",
     "evalue": "invalid syntax (<ipython-input-1-12e8ad7e1c54>, line 1)",
     "output_type": "error",
     "traceback": [
      "\u001b[1;36m  File \u001b[1;32m\"<ipython-input-1-12e8ad7e1c54>\"\u001b[1;36m, line \u001b[1;32m1\u001b[0m\n\u001b[1;33m    nums = [1:20]\u001b[0m\n\u001b[1;37m             ^\u001b[0m\n\u001b[1;31mSyntaxError\u001b[0m\u001b[1;31m:\u001b[0m invalid syntax\n"
     ]
    }
   ],
   "source": [
    "nums = [120]\n",
    "\n",
    "new_lst = []\n",
    "\n",
    "for num in nums:\n",
    "    if num > 30:\n",
    "        new_lst.append(num)\n",
    "        \n",
    "print(len(new_lst))"
   ]
  },
  {
   "cell_type": "code",
   "execution_count": 30,
   "id": "b53780d7",
   "metadata": {},
   "outputs": [
    {
     "ename": "SyntaxError",
     "evalue": "invalid syntax (<ipython-input-30-bb341f013ceb>, line 4)",
     "output_type": "error",
     "traceback": [
      "\u001b[1;36m  File \u001b[1;32m\"<ipython-input-30-bb341f013ceb>\"\u001b[1;36m, line \u001b[1;32m4\u001b[0m\n\u001b[1;33m    if edad =< 10\u001b[0m\n\u001b[1;37m            ^\u001b[0m\n\u001b[1;31mSyntaxError\u001b[0m\u001b[1;31m:\u001b[0m invalid syntax\n"
     ]
    }
   ],
   "source": [
    "edades = [1,2,3,4,5,6,7,8,9,10,11,12,13,14,15,16,17,18,19,20]\n",
    "\n",
    "for edad in edades:\n",
    "    if edad =< 10\n",
    "    edad_mayor = edad*2-1 \n",
    "    print(str(edad_mayor))"
   ]
  },
  {
   "cell_type": "code",
   "execution_count": 54,
   "id": "a00c4458",
   "metadata": {},
   "outputs": [
    {
     "name": "stdout",
     "output_type": "stream",
     "text": [
      "Número impar -> 1\n",
      "Número impar -> 3\n",
      "Número impar -> 5\n",
      "Número impar -> 7\n",
      "Número impar -> 9\n",
      "Número impar -> 11\n",
      "Número impar -> 13\n",
      "Número impar -> 15\n",
      "Número impar -> 17\n",
      "Número impar -> 19\n"
     ]
    }
   ],
   "source": [
    "nums = [1,2,3,4,5,6,7,8,9,10,11,12,13,14,15,16,17,18,19,20]\n",
    "\n",
    "\n",
    "for num in nums:\n",
    "    if num < 11:\n",
    "        nums_impares = num*2-1\n",
    "        print(\"Número impar ->\", str(nums_impares))"
   ]
  },
  {
   "cell_type": "code",
   "execution_count": 55,
   "id": "572b8043",
   "metadata": {},
   "outputs": [
    {
     "name": "stdout",
     "output_type": "stream",
     "text": [
      "número positivo\n"
     ]
    }
   ],
   "source": [
    "x = 1000000\n",
    "\n",
    "if x > 0:\n",
    "    print(\"número positivo\")\n",
    "elif x > 4:\n",
    "    print(\"número > 4\")\n",
    "elif x > 10000:\n",
    "    print(\"número mayor a 10000\")\n",
    "else:\n",
    "    print(\"este statement no se imprime\")"
   ]
  },
  {
   "cell_type": "code",
   "execution_count": 70,
   "id": "10e68527",
   "metadata": {},
   "outputs": [
    {
     "name": "stdout",
     "output_type": "stream",
     "text": [
      "[1, 2, 3, 4, 5, 6, 7, 8, 9, 10, 11, 12, 13, 14, 15, 16, 17, 18, 19, 20]\n"
     ]
    }
   ],
   "source": [
    "nums = [1,2,3,4,5,6,7,8,9,10,11,12,13,14,15,16,17,18,19,20]\n",
    "\n",
    "total = []\n",
    "\n",
    "for num in nums:\n",
    "    if num <=20:\n",
    "        total.append(num)\n",
    "        \n",
    "print(total)"
   ]
  },
  {
   "cell_type": "code",
   "execution_count": null,
   "id": "806574ab",
   "metadata": {},
   "outputs": [],
   "source": []
  }
 ],
 "metadata": {
  "kernelspec": {
   "display_name": "Python 3",
   "language": "python",
   "name": "python3"
  },
  "language_info": {
   "codemirror_mode": {
    "name": "ipython",
    "version": 3
   },
   "file_extension": ".py",
   "mimetype": "text/x-python",
   "name": "python",
   "nbconvert_exporter": "python",
   "pygments_lexer": "ipython3",
   "version": "3.8.5"
  }
 },
 "nbformat": 4,
 "nbformat_minor": 5
}
