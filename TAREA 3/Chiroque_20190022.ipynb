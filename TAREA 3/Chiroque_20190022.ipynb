{
 "cells": [
  {
   "cell_type": "markdown",
   "metadata": {},
   "source": [
    "# Tarea 3 (Pandas)\n",
    "\n",
    "Hora de entrega: Viernes 28 de Mayo, 11:59 pm\n",
    "\n",
    "Nombrar al archivo de la siguiente manera: Apellido_código.  \n",
    "Ejemplo:  Solis_20060983\n",
    "\n",
    "Entregar la tarea en esta plantilla, no usar una adicional a esta. \n",
    "\n",
    "\n"
   ]
  },
  {
   "cell_type": "markdown",
   "metadata": {},
   "source": [
    "- Antes que nada, ¡necesitamos nuestros datos! \n",
    "1. Ve a la página de microdatos del [INEI](http://iinei.inei.gob.pe/microdatos/). \n",
    "2. Ve a \"Consulta por encuestas\" y ve a ENAHO metodología ACTUALIZADA. \n",
    "3. Elige aquella que dice \"Condiciones de Vida y Pobreza - ENAHO\" (la que no es panel). \n",
    "4. Elige el año 2020, y en período, elige la anual.   \n",
    "5. Descarga los **archivos CSV** del Código módulo 1 (Características de la vivienda y el hogar) y el módulo 34 (Sumarias - Variables Calculadas). \n",
    "\n",
    "Esta tarea está pensada en ser desarrollada con los CSV (no los .dta o .sav, que son los archivos de stata ó spss respectivamente).\n",
    "\n",
    "\n",
    "La ENAHO es una encuesta muy amplia que está distribuida en varios módulos. En esta tarea veremos cómo podemos utilizar información de varios de estos módulos para sacar datos interesantes. "
   ]
  },
  {
   "cell_type": "markdown",
   "metadata": {},
   "source": [
    "1. Lee ambos archivos csv con pandas y asígnales un nombre para que puedas trabajar con ambos como base de datos. (Si es que sale un error, es debido a que nuestras encuestas están en español y tienen caracteres como ˜ de la ñ o el acento. Por ello, a las opciones de lectura del csv, agrega la siguiente opción ``` encoding = \"latin-1\" ```. \n",
    "\n",
    "(No olvides importar pandas 🐼)\n",
    "\n",
    "\n",
    "En caso tus columnas salgan con el nombre en mayúscula, puedes correr el siguiente comando para cambiarlas a minúsculas:\n",
    "\n",
    "``` python3 \n",
    "df.columns= df.columns.str.lower()\n",
    "``` \n",
    "Donde `df` es el nombre del dataframe.   \n",
    "(En esta clase no ahondamos en el manejo de strings, pero `lower()` es un método de este tipo de variables para convertir el string a minúscula.)"
   ]
  },
  {
   "cell_type": "code",
   "execution_count": 3,
   "metadata": {},
   "outputs": [],
   "source": [
    "import pandas as pd"
   ]
  },
  {
   "cell_type": "code",
   "execution_count": null,
   "metadata": {},
   "outputs": [],
   "source": []
  },
  {
   "cell_type": "markdown",
   "metadata": {},
   "source": [
    "2. - ¿Cuáles son las dimensiones de la sumaria? (o el número de filas y columnas).\n",
    "   - ¿Cuáles son las dimensiones del módulo de vivienda? (o el número de filas y columnas)."
   ]
  },
  {
   "cell_type": "code",
   "execution_count": null,
   "metadata": {},
   "outputs": [],
   "source": []
  },
  {
   "cell_type": "markdown",
   "metadata": {},
   "source": [
    "3. En esta oportunidad no necesitaremos todas las variables de la ENAHO para hacer esta tarea. \n",
    "- Quedémonos con las variables ``` CONGLOME VIVIENDA HOGAR MIEPERHO PERCEPHO POBREZA GASHOG2D INGHOG2D ``` de la sumaria. \n",
    "- Quedémonos con las variables ``` CONGLOME VIVIENDA HOGAR RESULT NBI1 NBI2 NBI3 NBI4 NBI5 ``` del módulo de vivienda.\n",
    "\n",
    " \n",
    " Nota: cada una de las variables es:\n",
    "- MIEPERHO: número de miembros del hogar. \n",
    "- PERCEPHO: número de perceptores del hogar (que reciben un ingreso). \n",
    "- POBREZA: Pobreza monetaria según la línea de pobreza. \n",
    "- GASHOG2D: Gasto bruto anual del hogar. \n",
    "- INGHOG2D: Ingreso anual neto total del hogar. \n",
    "\n",
    "Necesidades básicas:\n",
    "- NBI1: vivienda inadecuada.\n",
    "- NBI2: hacinamiento\n",
    "- NBI3: vivienda sin servicios higiénicos\n",
    "- NBI4: hogares con  niños que no asisten a la escuela.\n",
    "- NBI5: hogares con alta dependencia económica \n",
    "\n",
    "CONGLOME, VIVIENDA y HOGAR son los identificadores únicos a nivel de hogar (como un key id)."
   ]
  },
  {
   "cell_type": "code",
   "execution_count": null,
   "metadata": {},
   "outputs": [],
   "source": []
  },
  {
   "cell_type": "markdown",
   "metadata": {},
   "source": [
    "4. El módulo vivienda incluye todos los hogares que entraron en el marco muestral, incluso aquellos que no participaron en la ENAHO por diversos motivos. Para eliminar estas viviendas, quedémonos con aquellas cuyo ``` RESULT``` sea igual a 1 ó 2. Almacena este resultado para después."
   ]
  },
  {
   "cell_type": "markdown",
   "metadata": {},
   "source": []
  },
  {
   "cell_type": "markdown",
   "metadata": {},
   "source": [
    "5. Queremos calcular una serie de variables (ó columnas nuevas):  \n",
    "En sumaria: \n",
    "- Queremos el número de miembros dependientes del hogar . Estos son el número de personas que no perciben un ingreso ó la diferencia entre el total de miembros y el total de perceptores. \n",
    "- Queremos el ingreso mensual promedio por perceptor del hogar.\n",
    "- Queremos la diferencia  entre ingreso y gasto del hogar"
   ]
  },
  {
   "cell_type": "code",
   "execution_count": null,
   "metadata": {},
   "outputs": [],
   "source": []
  },
  {
   "cell_type": "markdown",
   "metadata": {},
   "source": [
    "6. La variable de `pobreza`, en la sumaria, está codificada como integers 1, 2 y 3. Esto corresponde a:  \n",
    "`1`: hogar pobre extremo  \n",
    "`2`: hogar pobre no extremo  \n",
    "`3`: hogar no  pobre  \n",
    "\n",
    "En base a esta variable, crea dos variables más:\n",
    "1. Una variable que tenga `'pobre extremo'`, `'pobre no extremo'` y `'no pobre'` en vez  de 1, 2, 3.\n",
    "2. Una variable que tenga `'pobre'` y `'no pobre'` (ó que englobe a los hogares pobres y pobres no extremos).\n",
    "\n"
   ]
  },
  {
   "cell_type": "code",
   "execution_count": null,
   "metadata": {},
   "outputs": [],
   "source": []
  },
  {
   "cell_type": "markdown",
   "metadata": {},
   "source": [
    "7. Queremos saber el promedio de ingresos de los hogares (inghog2d) por nivel de pobreza. Haz un `groupby` para averiguar esto. \n",
    "\n",
    "\n",
    "(Por ejemplo, todos los hogares pobres extremos tendrán un único promedio, y así con las 2 categorías de pobreza adicionales). "
   ]
  },
  {
   "cell_type": "code",
   "execution_count": null,
   "metadata": {},
   "outputs": [],
   "source": []
  },
  {
   "cell_type": "markdown",
   "metadata": {},
   "source": [
    "8. ¡Ahora uniremos los datos!  \n",
    "Pero antes un check de sanidad: Verifica que el número  de filas de ambas bases de datos son las mismas (acuérdate que filtramos las observaciones por `result`).  La ENAHO recolecta información de estos 34,490 hogares a través de todos sus módulos. Para utilizar estos módulos a la vez, realizaremos una \"unión\" (merge).   \n",
    "\n",
    "Une ambas bases con un _inner merge_. Recuerda que el id que identifica a cada hogar se compone de ` conglome vivienda hogar`.  "
   ]
  },
  {
   "cell_type": "code",
   "execution_count": null,
   "metadata": {},
   "outputs": [],
   "source": []
  },
  {
   "cell_type": "markdown",
   "metadata": {},
   "source": [
    "9. Haz un ```groupby``` que agrupe (`agg`) los datos por nivel de pobreza  y la nbi1. Queremos hallar el promedio y la mediana de los ingresos (inghog2d) y los gastos (gashog2d) por el producto cartesiano de las categorías de estas 2 variables - pobreza y nbi 1 -. \n",
    "\n",
    "El producto cartesiano es tan sólo todas las posibles combinaciones entre categorías. \n",
    "En este caso, tendremos:\n",
    "- pobre extremo con nbi1\n",
    "- pobre extremo sin nbi1\n",
    "- pobre no extremo con nbi1\n",
    "- pobre no extremo sin nbi1\n",
    "- no pobre con nbi1\n",
    "- no pobre sin nbi1\n",
    "\n",
    "(Este es un  ejemplo de cómo, al cruzar un indicador de pobreza monetaria -pobreza- y pobreza multidimensional-nbis-, podemos seguir observando brechas)."
   ]
  },
  {
   "cell_type": "code",
   "execution_count": null,
   "metadata": {},
   "outputs": [],
   "source": []
  },
  {
   "cell_type": "markdown",
   "metadata": {},
   "source": [
    "10. Crea una variable que nos informe sobre los hogares que tienen las 5 nbis. Esta tomará el valor de 1 si tiene las 5 nbis, 0 en caso contrario (así  tenga 4, 3). \n",
    "\n",
    "Calcula el promedio de miembros dependientes por cada categoría de esta nueva variable. "
   ]
  },
  {
   "cell_type": "code",
   "execution_count": null,
   "metadata": {},
   "outputs": [],
   "source": []
  },
  {
   "cell_type": "markdown",
   "metadata": {},
   "source": [
    "11. Crédito extra: \n",
    "\n",
    "Guarda el dataframe del resultado del ejercicio 9 como un csv. (No es necesario adjuntar este csv, con  que el bloque haya corrido está bien). "
   ]
  },
  {
   "cell_type": "code",
   "execution_count": null,
   "metadata": {},
   "outputs": [],
   "source": []
  },
  {
   "cell_type": "markdown",
   "metadata": {},
   "source": [
    "**Tarea terminada**    ┗┃・ ■ ・┃┛ "
   ]
  },
  {
   "cell_type": "markdown",
   "metadata": {},
   "source": [
    "(╯°□°）╯︵ ┻━┻"
   ]
  },
  {
   "cell_type": "code",
   "execution_count": null,
   "metadata": {},
   "outputs": [],
   "source": []
  }
 ],
 "metadata": {
  "kernelspec": {
   "display_name": "Python 3",
   "language": "python",
   "name": "python3"
  },
  "language_info": {
   "codemirror_mode": {
    "name": "ipython",
    "version": 3
   },
   "file_extension": ".py",
   "mimetype": "text/x-python",
   "name": "python",
   "nbconvert_exporter": "python",
   "pygments_lexer": "ipython3",
   "version": "3.8.5"
  }
 },
 "nbformat": 4,
 "nbformat_minor": 4
}
